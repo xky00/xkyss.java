{
 "cells": [
  {
   "cell_type": "code",
   "execution_count": 1,
   "metadata": {},
   "outputs": [
    {
     "name": "stdout",
     "output_type": "stream",
     "text": [
      "hello jupyter java\n"
     ]
    }
   ],
   "source": [
    "System.out.println(\"hello jupyter java\");"
   ]
  }
 ],
 "metadata": {
  "kernelspec": {
   "display_name": "java (Ganymede/j!)",
   "language": "java",
   "name": "jbang-ganymede"
  },
  "language_info": {
   "file_extension": ".java",
   "mimetype": "text/x-java",
   "name": "java",
   "version": "11"
  }
 },
 "nbformat": 4,
 "nbformat_minor": 2
}
